{
 "cells": [
  {
   "cell_type": "code",
   "execution_count": 23,
   "metadata": {},
   "outputs": [
    {
     "name": "stdout",
     "output_type": "stream",
     "text": [
      "3.7.3\n"
     ]
    }
   ],
   "source": [
    "from platform import python_version\n",
    "print(python_version())\n",
    "import os\n",
    "os.environ[\"KERAS_BACKEND\"] = \"theano\"\n",
    "import keras\n",
    "import numpy as np\n",
    "\n",
    "\n",
    "import ssl\n",
    "\n",
    "ssl._create_default_https_context = ssl._create_unverified_context"
   ]
  },
  {
   "cell_type": "code",
   "execution_count": 24,
   "metadata": {},
   "outputs": [],
   "source": [
    "(Train_data,Train_label), (Test_data,Test_label) = keras.datasets.cifar10.load_data()\n",
    "Train_data = Train_data/255.0\n",
    "Test_data = Test_data/255.0\n"
   ]
  },
  {
   "cell_type": "code",
   "execution_count": 25,
   "metadata": {},
   "outputs": [
    {
     "name": "stdout",
     "output_type": "stream",
     "text": [
      "Train data index 1: [[[0.23137255 0.24313725 0.24705882]\n",
      "  [0.16862745 0.18039216 0.17647059]\n",
      "  [0.19607843 0.18823529 0.16862745]\n",
      "  ...\n",
      "  [0.61960784 0.51764706 0.42352941]\n",
      "  [0.59607843 0.49019608 0.4       ]\n",
      "  [0.58039216 0.48627451 0.40392157]]\n",
      "\n",
      " [[0.0627451  0.07843137 0.07843137]\n",
      "  [0.         0.         0.        ]\n",
      "  [0.07058824 0.03137255 0.        ]\n",
      "  ...\n",
      "  [0.48235294 0.34509804 0.21568627]\n",
      "  [0.46666667 0.3254902  0.19607843]\n",
      "  [0.47843137 0.34117647 0.22352941]]\n",
      "\n",
      " [[0.09803922 0.09411765 0.08235294]\n",
      "  [0.0627451  0.02745098 0.        ]\n",
      "  [0.19215686 0.10588235 0.03137255]\n",
      "  ...\n",
      "  [0.4627451  0.32941176 0.19607843]\n",
      "  [0.47058824 0.32941176 0.19607843]\n",
      "  [0.42745098 0.28627451 0.16470588]]\n",
      "\n",
      " ...\n",
      "\n",
      " [[0.81568627 0.66666667 0.37647059]\n",
      "  [0.78823529 0.6        0.13333333]\n",
      "  [0.77647059 0.63137255 0.10196078]\n",
      "  ...\n",
      "  [0.62745098 0.52156863 0.2745098 ]\n",
      "  [0.21960784 0.12156863 0.02745098]\n",
      "  [0.20784314 0.13333333 0.07843137]]\n",
      "\n",
      " [[0.70588235 0.54509804 0.37647059]\n",
      "  [0.67843137 0.48235294 0.16470588]\n",
      "  [0.72941176 0.56470588 0.11764706]\n",
      "  ...\n",
      "  [0.72156863 0.58039216 0.36862745]\n",
      "  [0.38039216 0.24313725 0.13333333]\n",
      "  [0.3254902  0.20784314 0.13333333]]\n",
      "\n",
      " [[0.69411765 0.56470588 0.45490196]\n",
      "  [0.65882353 0.50588235 0.36862745]\n",
      "  [0.70196078 0.55686275 0.34117647]\n",
      "  ...\n",
      "  [0.84705882 0.72156863 0.54901961]\n",
      "  [0.59215686 0.4627451  0.32941176]\n",
      "  [0.48235294 0.36078431 0.28235294]]] \n",
      "Train label index 1: [6]\n",
      "Test data index 2: [[[0.61960784 0.43921569 0.19215686]\n",
      "  [0.62352941 0.43529412 0.18431373]\n",
      "  [0.64705882 0.45490196 0.2       ]\n",
      "  ...\n",
      "  [0.5372549  0.37254902 0.14117647]\n",
      "  [0.49411765 0.35686275 0.14117647]\n",
      "  [0.45490196 0.33333333 0.12941176]]\n",
      "\n",
      " [[0.59607843 0.43921569 0.2       ]\n",
      "  [0.59215686 0.43137255 0.15686275]\n",
      "  [0.62352941 0.44705882 0.17647059]\n",
      "  ...\n",
      "  [0.53333333 0.37254902 0.12156863]\n",
      "  [0.49019608 0.35686275 0.1254902 ]\n",
      "  [0.46666667 0.34509804 0.13333333]]\n",
      "\n",
      " [[0.59215686 0.43137255 0.18431373]\n",
      "  [0.59215686 0.42745098 0.12941176]\n",
      "  [0.61960784 0.43529412 0.14117647]\n",
      "  ...\n",
      "  [0.54509804 0.38431373 0.13333333]\n",
      "  [0.50980392 0.37254902 0.13333333]\n",
      "  [0.47058824 0.34901961 0.12941176]]\n",
      "\n",
      " ...\n",
      "\n",
      " [[0.26666667 0.48627451 0.69411765]\n",
      "  [0.16470588 0.39215686 0.58039216]\n",
      "  [0.12156863 0.34509804 0.5372549 ]\n",
      "  ...\n",
      "  [0.14901961 0.38039216 0.57254902]\n",
      "  [0.05098039 0.25098039 0.42352941]\n",
      "  [0.15686275 0.33333333 0.49803922]]\n",
      "\n",
      " [[0.23921569 0.45490196 0.65882353]\n",
      "  [0.19215686 0.4        0.58039216]\n",
      "  [0.1372549  0.33333333 0.51764706]\n",
      "  ...\n",
      "  [0.10196078 0.32156863 0.50980392]\n",
      "  [0.11372549 0.32156863 0.49411765]\n",
      "  [0.07843137 0.25098039 0.41960784]]\n",
      "\n",
      " [[0.21176471 0.41960784 0.62745098]\n",
      "  [0.21960784 0.41176471 0.58431373]\n",
      "  [0.17647059 0.34901961 0.51764706]\n",
      "  ...\n",
      "  [0.09411765 0.30196078 0.48627451]\n",
      "  [0.13333333 0.32941176 0.50588235]\n",
      "  [0.08235294 0.2627451  0.43137255]]] \n",
      "Test label index 1: [3]\n"
     ]
    }
   ],
   "source": [
    "print(\"Train data index 1: {} \".format(Train_data[0]))\n",
    "print(\"Train label index 1: {}\".format(Train_label[0]))\n",
    "print(\"Test data index 2: {} \".format(Test_data[0]))\n",
    "print(\"Test label index 1: {}\".format(Test_label[0]))"
   ]
  },
  {
   "cell_type": "code",
   "execution_count": 26,
   "metadata": {},
   "outputs": [
    {
     "name": "stdout",
     "output_type": "stream",
     "text": [
      "Train data shape: (50000, 32, 32, 3)\n",
      "Train label shape: (50000, 1)\n",
      "Test data shape: (10000, 32, 32, 3)\n",
      "Test label shape: (10000, 1)\n"
     ]
    }
   ],
   "source": [
    "print(\"Train data shape: {}\".format(Train_data.shape))\n",
    "print(\"Train label shape: {}\".format(Train_label.shape))\n",
    "print(\"Test data shape: {}\".format(Test_data.shape))\n",
    "print(\"Test label shape: {}\".format(Test_label.shape))"
   ]
  },
  {
   "cell_type": "code",
   "execution_count": 27,
   "metadata": {},
   "outputs": [],
   "source": [
    "Train_label = keras.utils.to_categorical(Train_label, 10)\n",
    "Test_label = keras.utils.to_categorical(Test_label, 10)"
   ]
  },
  {
   "cell_type": "code",
   "execution_count": 28,
   "metadata": {},
   "outputs": [
    {
     "name": "stdout",
     "output_type": "stream",
     "text": [
      "Train label shape: (50000, 10)\n",
      "Test label shape: (10000, 10)\n"
     ]
    }
   ],
   "source": [
    "print(\"Train label shape: {}\".format(Train_label.shape))\n",
    "print(\"Test label shape: {}\".format(Test_label.shape))"
   ]
  },
  {
   "cell_type": "code",
   "execution_count": 35,
   "metadata": {},
   "outputs": [],
   "source": [
    "model = keras.models.Sequential([\n",
    "    keras.layers.Conv2D(32,(3,3), padding=\"same\", input_shape=(32,32,3), activation=\"relu\"),\n",
    "    keras.layers.Conv2D(32,(3,3)),\n",
    "    keras.layers.MaxPooling2D(pool_size=(2,2)),\n",
    "    keras.layers.Dropout(0.2),\n",
    "    keras.layers.Conv2D(32,(3,3), padding=\"same\"),\n",
    "    keras.layers.Conv2D(32,(3,3)),\n",
    "    keras.layers.MaxPooling2D(pool_size=(2,2)),\n",
    "    keras.layers.Dropout(0.2),\n",
    "    keras.layers.Flatten(),\n",
    "    keras.layers.Dense(500, activation=\"relu\"),\n",
    "    keras.layers.Dropout(0.2),\n",
    "    keras.layers.Dense(10, activation=\"softmax\")\n",
    "])"
   ]
  },
  {
   "cell_type": "code",
   "execution_count": 36,
   "metadata": {},
   "outputs": [],
   "source": [
    "model.compile(optimizer=\"adam\", metrics=[\"accuracy\"], loss=\"categorical_crossentropy\")"
   ]
  },
  {
   "cell_type": "code",
   "execution_count": 37,
   "metadata": {},
   "outputs": [
    {
     "name": "stdout",
     "output_type": "stream",
     "text": [
      "Epoch 1/10\n",
      "50000/50000 [==============================] - 354s 7ms/step - loss: 1.3897 - accuracy: 0.5012\n",
      "Epoch 2/10\n",
      "50000/50000 [==============================] - 335s 7ms/step - loss: 1.0333 - accuracy: 0.6385\n",
      "Epoch 3/10\n",
      "50000/50000 [==============================] - 342s 7ms/step - loss: 0.8838 - accuracy: 0.6936\n",
      "Epoch 4/10\n",
      "50000/50000 [==============================] - 349s 7ms/step - loss: 0.7885 - accuracy: 0.7282\n",
      "Epoch 5/10\n",
      "50000/50000 [==============================] - 360s 7ms/step - loss: 0.7224 - accuracy: 0.7502\n",
      "Epoch 6/10\n",
      "50000/50000 [==============================] - 351s 7ms/step - loss: 0.6743 - accuracy: 0.76730s - loss: 0.6743 - accuracy: \n",
      "Epoch 7/10\n",
      "50000/50000 [==============================] - 362s 7ms/step - loss: 0.6170 - accuracy: 0.7856\n",
      "Epoch 8/10\n",
      "50000/50000 [==============================] - 322s 6ms/step - loss: 0.5854 - accuracy: 0.7975\n",
      "Epoch 9/10\n",
      "50000/50000 [==============================] - 308s 6ms/step - loss: 0.5522 - accuracy: 0.8069\n",
      "Epoch 10/10\n",
      "50000/50000 [==============================] - 313s 6ms/step - loss: 0.5187 - accuracy: 0.8200\n"
     ]
    },
    {
     "data": {
      "text/plain": [
       "<keras.callbacks.callbacks.History at 0x11aab6a58>"
      ]
     },
     "execution_count": 37,
     "metadata": {},
     "output_type": "execute_result"
    }
   ],
   "source": [
    "model.fit(Train_data,Train_label, epochs=10,batch_size=32)"
   ]
  },
  {
   "cell_type": "code",
   "execution_count": 44,
   "metadata": {},
   "outputs": [
    {
     "name": "stdout",
     "output_type": "stream",
     "text": [
      "actual: cat\n",
      "predicted: 3\n"
     ]
    }
   ],
   "source": [
    "classes=[\"airplane\", \"automobile\", \"bird\", \"cat\", \"deer\", \"dog\", \"frog\", \"horse\", \"ship\", \"truck\"]\n",
    "prediction = model.predict(Test_data)\n",
    "print(\"actual: {}\".format(classes[np.argmax(Test_label[0])]))\n",
    "print(\"predicted: {}\".format(np.argmax(prediction[0])))"
   ]
  },
  {
   "cell_type": "code",
   "execution_count": null,
   "metadata": {},
   "outputs": [],
   "source": []
  },
  {
   "cell_type": "code",
   "execution_count": null,
   "metadata": {},
   "outputs": [],
   "source": []
  }
 ],
 "metadata": {
  "kernelspec": {
   "display_name": "Python 3",
   "language": "python",
   "name": "python3"
  },
  "language_info": {
   "codemirror_mode": {
    "name": "ipython",
    "version": 3
   },
   "file_extension": ".py",
   "mimetype": "text/x-python",
   "name": "python",
   "nbconvert_exporter": "python",
   "pygments_lexer": "ipython3",
   "version": "3.7.3"
  }
 },
 "nbformat": 4,
 "nbformat_minor": 2
}
